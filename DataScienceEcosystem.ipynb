{
 "cells": [
  {
   "cell_type": "markdown",
   "id": "10c586fa-ea24-40d1-b959-1f1ffd88a556",
   "metadata": {},
   "source": [
    "#### Exercise 2: Create markdown cell with title of the notebook\n",
    "\n",
    "# Data Science Tools and Ecosystem"
   ]
  },
  {
   "cell_type": "markdown",
   "id": "54bb85f2-faae-4ca2-bf6c-40758ffa1d64",
   "metadata": {},
   "source": [
    "#### Exercise 3 - Create a markdown cell for an introduction\n",
    "\n",
    "In this notebook, Data Science Tools and Ecosystem are summarized."
   ]
  },
  {
   "cell_type": "markdown",
   "id": "005b3575-49ce-4fd8-914e-d68328286708",
   "metadata": {},
   "source": [
    "#### Exercise 10 - Insert a markdown cell to list Objectives\n",
    "\n",
    "Objectives:\n",
    "    \n",
    "- List popular languages for Data Science\n",
    "- List examples of the various libraries\n",
    "- Recognizing Jupyter notebook and JupyterLab\n",
    "- Recognizing R Studio\n",
    "- Recognizing Git and GitHub"
   ]
  },
  {
   "cell_type": "markdown",
   "id": "7e56d74d-b7a3-406c-9883-fa6940736646",
   "metadata": {},
   "source": [
    "#### Exercise 4 - Create a markdown cell to list data science languages\n",
    "\n",
    "Some of the popular languages that Data Scientists use are:\n",
    "\n",
    "1. Python\n",
    "2. Java\n",
    "3. R"
   ]
  },
  {
   "cell_type": "markdown",
   "id": "ec804773-d672-4ebc-be8b-1d147a4ba4f8",
   "metadata": {},
   "source": [
    "#### Exercise 5 - Create a markdown cell to list data science libraries\n",
    "\n",
    "Some of the commonly used libraries used by Data Scientists include:\n",
    "\n",
    "1. NumPy\n",
    "2. Plotly\n",
    "3. Pandas"
   ]
  },
  {
   "cell_type": "markdown",
   "id": "798b5dae-a016-4be4-adea-ede6572a502e",
   "metadata": {},
   "source": [
    "#### Exercise 6 - Create a markdown cell with a table of Data Science tools\n",
    "\n",
    "| Data Science Tools |\n",
    "| ------------------ |\n",
    "| R Studio |\n",
    "| Apache Spark |\n",
    "| Visual Studio Code |\n"
   ]
  },
  {
   "cell_type": "markdown",
   "id": "f8b47ba0-a7c0-493d-9c78-4aba6f638f87",
   "metadata": {},
   "source": [
    "#### Exercise 7 - Create a markdown cell introducing arithmetic expression examples\n",
    "\n",
    "### Below are a few examples of evaluating arithmetic expressions in Python"
   ]
  },
  {
   "cell_type": "code",
   "execution_count": 1,
   "id": "d3731007-f7b0-4d79-8b0e-686b455ea59f",
   "metadata": {
    "tags": []
   },
   "outputs": [
    {
     "data": {
      "text/plain": [
       "17"
      ]
     },
     "execution_count": 1,
     "metadata": {},
     "output_type": "execute_result"
    }
   ],
   "source": [
    "# Exercise 8 - Create a code cell to multiply and add numbers\n",
    "\n",
    "# This a simple arithmetic expression to mutiply then add integers\n",
    "\n",
    "(3*4)+5"
   ]
  },
  {
   "cell_type": "code",
   "execution_count": 2,
   "id": "19274048-d99f-4c09-83f3-09530e715640",
   "metadata": {
    "tags": []
   },
   "outputs": [
    {
     "data": {
      "text/plain": [
       "3.3333333333333335"
      ]
     },
     "execution_count": 2,
     "metadata": {},
     "output_type": "execute_result"
    }
   ],
   "source": [
    "# Exercise 9 - Create a code cell to convert minutes to hours\n",
    "\n",
    "# This will convert 200 minutes to hours by diving by 60\n",
    "\n",
    "200/60"
   ]
  },
  {
   "cell_type": "markdown",
   "id": "769cfe3a-7e5f-4d88-ade4-d6a2e0c4abcc",
   "metadata": {},
   "source": [
    "#### Exercise 11 - Create a markdown cell to indicate the Author's name\n",
    "\n",
    "## Author\n",
    "\n",
    "Omar Abdulrashid\n",
    "\n"
   ]
  },
  {
   "cell_type": "code",
   "execution_count": null,
   "id": "7e545414-6ddf-444c-82d1-ed20ae7336c7",
   "metadata": {},
   "outputs": [],
   "source": []
  }
 ],
 "metadata": {
  "kernelspec": {
   "display_name": "Python",
   "language": "python",
   "name": "conda-env-python-py"
  },
  "language_info": {
   "codemirror_mode": {
    "name": "ipython",
    "version": 3
   },
   "file_extension": ".py",
   "mimetype": "text/x-python",
   "name": "python",
   "nbconvert_exporter": "python",
   "pygments_lexer": "ipython3",
   "version": "3.7.12"
  }
 },
 "nbformat": 4,
 "nbformat_minor": 5
}
